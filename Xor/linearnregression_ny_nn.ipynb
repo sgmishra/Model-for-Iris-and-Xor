{
 "cells": [
  {
   "cell_type": "code",
   "execution_count": 8,
   "metadata": {},
   "outputs": [],
   "source": [
    "import torch\n",
    "import torch.nn as nn\n",
    "import torch.nn.functional as F\n",
    "import torch.optim as optim\n"
   ]
  },
  {
   "cell_type": "code",
   "execution_count": 9,
   "metadata": {},
   "outputs": [],
   "source": [
    "data=[]\n",
    "target=[]\n",
    "for x in range(1,100,1):\n",
    "    y=x*2+5\n",
    "#     print(y)\n",
    "    data.append([x])\n",
    "    target.append([y])\n",
    "input=torch.Tensor(data)\n",
    "tar=torch.Tensor(target)\n"
   ]
  },
  {
   "cell_type": "code",
   "execution_count": 45,
   "metadata": {},
   "outputs": [
    {
     "name": "stdout",
     "output_type": "stream",
     "text": [
      "Net(\n",
      "  (fc1): Linear(in_features=1, out_features=4, bias=True)\n",
      "  (fc2): Linear(in_features=4, out_features=1, bias=True)\n",
      ")\n"
     ]
    }
   ],
   "source": [
    "\n",
    "class Net(nn.Module):\n",
    "\n",
    "    def __init__(self):\n",
    "        super(Net, self).__init__()\n",
    "       \n",
    "        self.fc1 = nn.Linear(1, 4)  # 6*6 from image dimension\n",
    "        self.fc2 = nn.Linear(4, 1)\n",
    "\n",
    "    def forward(self, x):\n",
    "        x = F.relu(self.fc1(x))\n",
    "        x = F.relu(self.fc2(x))\n",
    "#         print(\"---------------------\",x)\n",
    "        return x\n",
    "\n",
    "\n",
    "\n",
    "net = Net()\n",
    "print(net)\n",
    "optimizer = optim.SGD(net.parameters(), lr=0.00001)\n"
   ]
  },
  {
   "cell_type": "code",
   "execution_count": 46,
   "metadata": {},
   "outputs": [],
   "source": [
    "def prog(e,v):\n",
    "    input = torch.Tensor(data)\n",
    "\n",
    "    optimizer.zero_grad()\n",
    "    \n",
    "    for ip,tr in zip(input,tar):\n",
    "        out = net(ip)\n",
    "        loss_function = nn.MSELoss()\n",
    "        loss=loss_function(out, tr)\n",
    "        loss.backward()\n",
    "        optimizer.step() \n",
    "    "
   ]
  },
  {
   "cell_type": "code",
   "execution_count": 47,
   "metadata": {},
   "outputs": [],
   "source": [
    "test_data=[]\n",
    "test_target=[]\n",
    "for x in range(100,150,1):\n",
    "    y=x*2+5\n",
    "#     print(y)\n",
    "    test_data.append([x])\n",
    "    test_target.append([y])\n",
    "test_input=torch.Tensor(test_data)\n",
    "test_tar=torch.Tensor(test_target)"
   ]
  },
  {
   "cell_type": "code",
   "execution_count": 48,
   "metadata": {},
   "outputs": [],
   "source": [
    "def accuracy():\n",
    "    loss=0\n",
    "    with torch.no_grad():\n",
    "        for ip,tr in zip(test_input,test_tar):\n",
    "            out = net(ip)\n",
    "            loss_function = nn.MSELoss()\n",
    "            loss+=torch.sqrt(loss_function(out, tr))\n",
    "    print(loss/2) \n",
    "    "
   ]
  },
  {
   "cell_type": "code",
   "execution_count": 52,
   "metadata": {},
   "outputs": [
    {
     "name": "stdout",
     "output_type": "stream",
     "text": [
      "tensor(0.0041)\n"
     ]
    }
   ],
   "source": [
    "for i in range(100):\n",
    "    prog(1,10)\n",
    "accuracy()"
   ]
  },
  {
   "cell_type": "code",
   "execution_count": null,
   "metadata": {},
   "outputs": [],
   "source": []
  }
 ],
 "metadata": {
  "kernelspec": {
   "display_name": "Python 3",
   "language": "python",
   "name": "python3"
  },
  "language_info": {
   "codemirror_mode": {
    "name": "ipython",
    "version": 3
   },
   "file_extension": ".py",
   "mimetype": "text/x-python",
   "name": "python",
   "nbconvert_exporter": "python",
   "pygments_lexer": "ipython3",
   "version": "3.7.4"
  }
 },
 "nbformat": 4,
 "nbformat_minor": 2
}
